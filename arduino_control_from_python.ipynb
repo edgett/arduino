{
 "cells": [
  {
   "cell_type": "markdown",
   "metadata": {},
   "source": [
    "## Use Python 3.10\n"
   ]
  },
  {
   "cell_type": "code",
   "execution_count": 1,
   "metadata": {},
   "outputs": [
    {
     "name": "stdout",
     "output_type": "stream",
     "text": [
      "Collecting pyFirmata\n",
      "  Downloading pyFirmata-1.1.0-py2.py3-none-any.whl (14 kB)\n",
      "Collecting pyserial (from pyFirmata)\n",
      "  Downloading pyserial-3.5-py2.py3-none-any.whl (90 kB)\n",
      "     ---------------------------------------- 0.0/90.6 kB ? eta -:--:--\n",
      "     ---------------------------------------- 90.6/90.6 kB 5.4 MB/s eta 0:00:00\n",
      "Installing collected packages: pyserial, pyFirmata\n",
      "Successfully installed pyFirmata-1.1.0 pyserial-3.5\n",
      "Note: you may need to restart the kernel to use updated packages.\n"
     ]
    }
   ],
   "source": [
    "%pip install pyFirmata"
   ]
  },
  {
   "cell_type": "markdown",
   "metadata": {},
   "source": [
    "## Install this code on the Arduino\n",
    "\n",
    "https://raw.githubusercontent.com/firmata/arduino/main/examples/StandardFirmata/StandardFirmata.ino\n"
   ]
  },
  {
   "cell_type": "code",
   "execution_count": 3,
   "metadata": {},
   "outputs": [
    {
     "ename": "SerialException",
     "evalue": "could not open port 'COM3': PermissionError(13, 'Access is denied.', None, 5)",
     "output_type": "error",
     "traceback": [
      "\u001b[1;31m---------------------------------------------------------------------------\u001b[0m",
      "\u001b[1;31mSerialException\u001b[0m                           Traceback (most recent call last)",
      "\u001b[1;32mc:\\Users\\localadmin\\source\\repos\\PlamHill.BlazorChat\\PalmHill.BlazorChat\\Client\\arduino.ipynb Cell 3\u001b[0m line \u001b[0;36m5\n\u001b[0;32m      <a href='vscode-notebook-cell:/c%3A/Users/localadmin/source/repos/PlamHill.BlazorChat/PalmHill.BlazorChat/Client/arduino.ipynb#W1sZmlsZQ%3D%3D?line=1'>2</a>\u001b[0m \u001b[39mfrom\u001b[39;00m \u001b[39mtime\u001b[39;00m \u001b[39mimport\u001b[39;00m sleep \n\u001b[0;32m      <a href='vscode-notebook-cell:/c%3A/Users/localadmin/source/repos/PlamHill.BlazorChat/PalmHill.BlazorChat/Client/arduino.ipynb#W1sZmlsZQ%3D%3D?line=3'>4</a>\u001b[0m \u001b[39m# Connecting to the board \u001b[39;00m\n\u001b[1;32m----> <a href='vscode-notebook-cell:/c%3A/Users/localadmin/source/repos/PlamHill.BlazorChat/PalmHill.BlazorChat/Client/arduino.ipynb#W1sZmlsZQ%3D%3D?line=4'>5</a>\u001b[0m board \u001b[39m=\u001b[39m Arduino(\u001b[39m'\u001b[39;49m\u001b[39mCOM3\u001b[39;49m\u001b[39m'\u001b[39;49m) \n\u001b[0;32m      <a href='vscode-notebook-cell:/c%3A/Users/localadmin/source/repos/PlamHill.BlazorChat/PalmHill.BlazorChat/Client/arduino.ipynb#W1sZmlsZQ%3D%3D?line=6'>7</a>\u001b[0m \u001b[39m# initializing the LEDs \u001b[39;00m\n\u001b[0;32m      <a href='vscode-notebook-cell:/c%3A/Users/localadmin/source/repos/PlamHill.BlazorChat/PalmHill.BlazorChat/Client/arduino.ipynb#W1sZmlsZQ%3D%3D?line=7'>8</a>\u001b[0m led1 \u001b[39m=\u001b[39m board\u001b[39m.\u001b[39mget_pin(\u001b[39m'\u001b[39m\u001b[39md:13:o\u001b[39m\u001b[39m'\u001b[39m) \n",
      "File \u001b[1;32mc:\\Users\\localadmin\\source\\repos\\PlamHill.BlazorChat\\.venv\\lib\\site-packages\\pyfirmata\\__init__.py:19\u001b[0m, in \u001b[0;36mArduino.__init__\u001b[1;34m(self, *args, **kwargs)\u001b[0m\n\u001b[0;32m     17\u001b[0m args \u001b[39m=\u001b[39m \u001b[39mlist\u001b[39m(args)\n\u001b[0;32m     18\u001b[0m args\u001b[39m.\u001b[39mappend(BOARDS[\u001b[39m'\u001b[39m\u001b[39marduino\u001b[39m\u001b[39m'\u001b[39m])\n\u001b[1;32m---> 19\u001b[0m \u001b[39msuper\u001b[39m(Arduino, \u001b[39mself\u001b[39m)\u001b[39m.\u001b[39m\u001b[39m__init__\u001b[39m(\u001b[39m*\u001b[39margs, \u001b[39m*\u001b[39m\u001b[39m*\u001b[39mkwargs)\n",
      "File \u001b[1;32mc:\\Users\\localadmin\\source\\repos\\PlamHill.BlazorChat\\.venv\\lib\\site-packages\\pyfirmata\\pyfirmata.py:89\u001b[0m, in \u001b[0;36mBoard.__init__\u001b[1;34m(self, port, layout, baudrate, name, timeout)\u001b[0m\n\u001b[0;32m     88\u001b[0m \u001b[39mdef\u001b[39;00m \u001b[39m__init__\u001b[39m(\u001b[39mself\u001b[39m, port, layout\u001b[39m=\u001b[39m\u001b[39mNone\u001b[39;00m, baudrate\u001b[39m=\u001b[39m\u001b[39m57600\u001b[39m, name\u001b[39m=\u001b[39m\u001b[39mNone\u001b[39;00m, timeout\u001b[39m=\u001b[39m\u001b[39mNone\u001b[39;00m):\n\u001b[1;32m---> 89\u001b[0m     \u001b[39mself\u001b[39m\u001b[39m.\u001b[39msp \u001b[39m=\u001b[39m serial\u001b[39m.\u001b[39;49mSerial(port, baudrate, timeout\u001b[39m=\u001b[39;49mtimeout)\n\u001b[0;32m     90\u001b[0m     \u001b[39m# Allow 5 secs for Arduino's auto-reset to happen\u001b[39;00m\n\u001b[0;32m     91\u001b[0m     \u001b[39m# Alas, Firmata blinks its version before printing it to serial\u001b[39;00m\n\u001b[0;32m     92\u001b[0m     \u001b[39m# For 2.3, even 5 seconds might not be enough.\u001b[39;00m\n\u001b[0;32m     93\u001b[0m     \u001b[39m# TODO Find a more reliable way to wait until the board is ready\u001b[39;00m\n\u001b[0;32m     94\u001b[0m     \u001b[39mself\u001b[39m\u001b[39m.\u001b[39mpass_time(BOARD_SETUP_WAIT_TIME)\n",
      "File \u001b[1;32mc:\\Users\\localadmin\\source\\repos\\PlamHill.BlazorChat\\.venv\\lib\\site-packages\\serial\\serialwin32.py:33\u001b[0m, in \u001b[0;36mSerial.__init__\u001b[1;34m(self, *args, **kwargs)\u001b[0m\n\u001b[0;32m     31\u001b[0m \u001b[39mself\u001b[39m\u001b[39m.\u001b[39m_overlapped_read \u001b[39m=\u001b[39m \u001b[39mNone\u001b[39;00m\n\u001b[0;32m     32\u001b[0m \u001b[39mself\u001b[39m\u001b[39m.\u001b[39m_overlapped_write \u001b[39m=\u001b[39m \u001b[39mNone\u001b[39;00m\n\u001b[1;32m---> 33\u001b[0m \u001b[39msuper\u001b[39m(Serial, \u001b[39mself\u001b[39m)\u001b[39m.\u001b[39m\u001b[39m__init__\u001b[39m(\u001b[39m*\u001b[39margs, \u001b[39m*\u001b[39m\u001b[39m*\u001b[39mkwargs)\n",
      "File \u001b[1;32mc:\\Users\\localadmin\\source\\repos\\PlamHill.BlazorChat\\.venv\\lib\\site-packages\\serial\\serialutil.py:244\u001b[0m, in \u001b[0;36mSerialBase.__init__\u001b[1;34m(self, port, baudrate, bytesize, parity, stopbits, timeout, xonxoff, rtscts, write_timeout, dsrdtr, inter_byte_timeout, exclusive, **kwargs)\u001b[0m\n\u001b[0;32m    241\u001b[0m     \u001b[39mraise\u001b[39;00m \u001b[39mValueError\u001b[39;00m(\u001b[39m'\u001b[39m\u001b[39munexpected keyword arguments: \u001b[39m\u001b[39m{!r}\u001b[39;00m\u001b[39m'\u001b[39m\u001b[39m.\u001b[39mformat(kwargs))\n\u001b[0;32m    243\u001b[0m \u001b[39mif\u001b[39;00m port \u001b[39mis\u001b[39;00m \u001b[39mnot\u001b[39;00m \u001b[39mNone\u001b[39;00m:\n\u001b[1;32m--> 244\u001b[0m     \u001b[39mself\u001b[39;49m\u001b[39m.\u001b[39;49mopen()\n",
      "File \u001b[1;32mc:\\Users\\localadmin\\source\\repos\\PlamHill.BlazorChat\\.venv\\lib\\site-packages\\serial\\serialwin32.py:64\u001b[0m, in \u001b[0;36mSerial.open\u001b[1;34m(self)\u001b[0m\n\u001b[0;32m     62\u001b[0m \u001b[39mif\u001b[39;00m \u001b[39mself\u001b[39m\u001b[39m.\u001b[39m_port_handle \u001b[39m==\u001b[39m win32\u001b[39m.\u001b[39mINVALID_HANDLE_VALUE:\n\u001b[0;32m     63\u001b[0m     \u001b[39mself\u001b[39m\u001b[39m.\u001b[39m_port_handle \u001b[39m=\u001b[39m \u001b[39mNone\u001b[39;00m    \u001b[39m# 'cause __del__ is called anyway\u001b[39;00m\n\u001b[1;32m---> 64\u001b[0m     \u001b[39mraise\u001b[39;00m SerialException(\u001b[39m\"\u001b[39m\u001b[39mcould not open port \u001b[39m\u001b[39m{!r}\u001b[39;00m\u001b[39m: \u001b[39m\u001b[39m{!r}\u001b[39;00m\u001b[39m\"\u001b[39m\u001b[39m.\u001b[39mformat(\u001b[39mself\u001b[39m\u001b[39m.\u001b[39mportstr, ctypes\u001b[39m.\u001b[39mWinError()))\n\u001b[0;32m     66\u001b[0m \u001b[39mtry\u001b[39;00m:\n\u001b[0;32m     67\u001b[0m     \u001b[39mself\u001b[39m\u001b[39m.\u001b[39m_overlapped_read \u001b[39m=\u001b[39m win32\u001b[39m.\u001b[39mOVERLAPPED()\n",
      "\u001b[1;31mSerialException\u001b[0m: could not open port 'COM3': PermissionError(13, 'Access is denied.', None, 5)"
     ]
    }
   ],
   "source": [
    "\n",
    "from pyfirmata import Arduino \n",
    "from time import sleep \n",
    "  \n",
    "# Set the COM port.\n",
    "board = Arduino('COM3') \n",
    "  \n",
    "# initializing the LEDs \n",
    "led1 = board.get_pin('d:13:o') \n",
    "\n",
    "# Blink the LED.\n",
    "while True:\n",
    "    led1.write(True)\n",
    "    print(\"On \\n\") \n",
    "    sleep(.5)\n",
    "    led1.write(False)\n",
    "    print(\"Off \\n\") \n",
    "    sleep(.5)\n",
    "    "
   ]
  }
 ],
 "metadata": {
  "kernelspec": {
   "display_name": "Python 3",
   "language": "python",
   "name": "python3"
  },
  "language_info": {
   "codemirror_mode": {
    "name": "ipython",
    "version": 3
   },
   "file_extension": ".py",
   "mimetype": "text/x-python",
   "name": "python",
   "nbconvert_exporter": "python",
   "pygments_lexer": "ipython3",
   "version": "3.10.11"
  }
 },
 "nbformat": 4,
 "nbformat_minor": 2
}
